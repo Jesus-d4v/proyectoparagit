{
  "nbformat": 4,
  "nbformat_minor": 0,
  "metadata": {
    "colab": {
      "provenance": [],
      "authorship_tag": "ABX9TyNnl5+tO2/DkMoniFxG0s50",
      "include_colab_link": true
    },
    "kernelspec": {
      "name": "python3",
      "display_name": "Python 3"
    },
    "language_info": {
      "name": "python"
    }
  },
  "cells": [
    {
      "cell_type": "markdown",
      "metadata": {
        "id": "view-in-github",
        "colab_type": "text"
      },
      "source": [
        "<a href=\"https://colab.research.google.com/github/Jesus-d4v/proyectoparagit/blob/master/ejercicio01.ipynb\" target=\"_parent\"><img src=\"https://colab.research.google.com/assets/colab-badge.svg\" alt=\"Open In Colab\"/></a>"
      ]
    },
    {
      "cell_type": "code",
      "execution_count": 7,
      "metadata": {
        "id": "dyZYSGrxTw_r"
      },
      "outputs": [],
      "source": [
        "#importamos librerias numpy\n",
        "import numpy as np"
      ]
    },
    {
      "cell_type": "code",
      "source": [
        "arreglo = np.array([1,4,8,9])\n",
        "arreglo2=np.array([2,6,10,12])\n",
        "\n",
        "suma= arreglo2+arreglo\n",
        "print(\"La suma de loa arreglos es: \" ,suma)"
      ],
      "metadata": {
        "colab": {
          "base_uri": "https://localhost:8080/"
        },
        "id": "UWk__EcGVI07",
        "outputId": "ca6d20d7-1d05-4fe4-982e-0581ac0940f6"
      },
      "execution_count": 13,
      "outputs": [
        {
          "output_type": "stream",
          "name": "stdout",
          "text": [
            "La suma de loa arreglos es:  [ 3 10 18 21]\n"
          ]
        }
      ]
    },
    {
      "cell_type": "markdown",
      "source": [
        "#Matrices:"
      ],
      "metadata": {
        "id": "D77fDjDtZMTr"
      }
    },
    {
      "cell_type": "code",
      "source": [
        "matr = np.array([[8,3],[2,4]])\n",
        "print (\"Matriz 2 X 2\")\n",
        "print(matr)"
      ],
      "metadata": {
        "colab": {
          "base_uri": "https://localhost:8080/"
        },
        "id": "APScppbIW_xD",
        "outputId": "d827bc57-4cda-4272-b4f0-d3224426ac21"
      },
      "execution_count": 15,
      "outputs": [
        {
          "output_type": "stream",
          "name": "stdout",
          "text": [
            "Matriz 2 X 2\n",
            "[[8 3]\n",
            " [2 4]]\n"
          ]
        }
      ]
    },
    {
      "cell_type": "code",
      "source": [
        "matri1 = np.array([[1,2],[3,4]])\n",
        "matri2 = np.array([[5,6],[7,8]])\n",
        "ma_suma=matri1+matri2\n",
        "print (\"suma de matriz 2X2\")\n",
        "print(ma_suma)"
      ],
      "metadata": {
        "colab": {
          "base_uri": "https://localhost:8080/"
        },
        "id": "-sZQpsx9ZZoh",
        "outputId": "5e4251ca-9b58-4ac0-ef13-41baf54489a6"
      },
      "execution_count": 16,
      "outputs": [
        {
          "output_type": "stream",
          "name": "stdout",
          "text": [
            "suma de matriz 2X2\n",
            "[[ 6  8]\n",
            " [10 12]]\n"
          ]
        }
      ]
    }
  ]
}